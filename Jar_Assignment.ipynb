{
  "nbformat": 4,
  "nbformat_minor": 0,
  "metadata": {
    "colab": {
      "provenance": []
    },
    "kernelspec": {
      "name": "python3",
      "display_name": "Python 3"
    },
    "language_info": {
      "name": "python"
    }
  },
  "cells": [
    {
      "cell_type": "code",
      "execution_count": 1,
      "metadata": {
        "id": "7T0RJq9gBe6N"
      },
      "outputs": [],
      "source": [
        "import pandas as pd"
      ]
    },
    {
      "cell_type": "code",
      "source": [
        "orders_df=pd.read_csv('/content/List_of_Orders.csv')\n",
        "order_details_df=pd.read_csv('/content/Order_Details.csv')"
      ],
      "metadata": {
        "id": "EgxY645XBv7p"
      },
      "execution_count": 3,
      "outputs": []
    },
    {
      "cell_type": "code",
      "source": [
        "merged_df=pd.merge(orders_df, order_details_df, on='Order ID', how='inner')"
      ],
      "metadata": {
        "id": "sIporTZKCG5_"
      },
      "execution_count": 4,
      "outputs": []
    },
    {
      "cell_type": "code",
      "source": [
        "total_sales_by_category = merged_df.groupby('Category')['Amount'].sum().reset_index()"
      ],
      "metadata": {
        "id": "pPpKzM4gCepk"
      },
      "execution_count": 5,
      "outputs": []
    },
    {
      "cell_type": "code",
      "source": [
        "total_sales_by_category = total_sales_by_category.sort_values(by='Amount', ascending=False)"
      ],
      "metadata": {
        "id": "OwdtHFvfCihD"
      },
      "execution_count": 6,
      "outputs": []
    },
    {
      "cell_type": "code",
      "source": [
        "print(total_sales_by_category)"
      ],
      "metadata": {
        "colab": {
          "base_uri": "https://localhost:8080/"
        },
        "id": "yspHovmSCqR0",
        "outputId": "16216853-884b-4a50-8ea7-4f1f45f608f2"
      },
      "execution_count": 7,
      "outputs": [
        {
          "output_type": "stream",
          "name": "stdout",
          "text": [
            "      Category    Amount\n",
            "1  Electronics  165267.0\n",
            "0     Clothing  139054.0\n",
            "2    Furniture  127181.0\n"
          ]
        }
      ]
    },
    {
      "cell_type": "markdown",
      "source": [
        "Calculate total profit for each category"
      ],
      "metadata": {
        "id": "WzUa3ZbnDdu_"
      }
    },
    {
      "cell_type": "code",
      "source": [
        "total_profit_by_category = merged_df.groupby('Category')['Profit'].sum().reset_index()"
      ],
      "metadata": {
        "id": "WaaptrfNDa7D"
      },
      "execution_count": 8,
      "outputs": []
    },
    {
      "cell_type": "markdown",
      "source": [
        "Calculate total amount for each category"
      ],
      "metadata": {
        "id": "PBVnOi4WDk2g"
      }
    },
    {
      "cell_type": "code",
      "source": [
        "total_amount_by_category = merged_df.groupby('Category')['Amount'].sum().reset_index()"
      ],
      "metadata": {
        "id": "CMsuoQq6Dnqb"
      },
      "execution_count": 9,
      "outputs": []
    },
    {
      "cell_type": "markdown",
      "source": [
        "Merge the total profit and total amount by category"
      ],
      "metadata": {
        "id": "JpEMKy-ODvXO"
      }
    },
    {
      "cell_type": "code",
      "source": [
        "category_profit_and_amount = pd.merge(total_profit_by_category, total_amount_by_category, on='Category')"
      ],
      "metadata": {
        "id": "gCHlZ-C1Du2Q"
      },
      "execution_count": 10,
      "outputs": []
    },
    {
      "cell_type": "code",
      "source": [
        "orders_per_category = merged_df.groupby('Category')['Order ID'].nunique().reset_index()\n",
        "category_profit_and_amount = pd.merge(category_profit_and_amount, orders_per_category, on='Category')"
      ],
      "metadata": {
        "id": "6DJxwuAED6AF"
      },
      "execution_count": 11,
      "outputs": []
    },
    {
      "cell_type": "code",
      "source": [
        "category_profit_and_amount['Average Profit Per Order'] = category_profit_and_amount['Profit'] / category_profit_and_amount['Order ID']"
      ],
      "metadata": {
        "id": "LzEHivwBD93g"
      },
      "execution_count": 12,
      "outputs": []
    },
    {
      "cell_type": "code",
      "source": [
        "category_profit_and_amount['Profit Margin (%)'] = (category_profit_and_amount['Profit'] / category_profit_and_amount['Amount']) * 100"
      ],
      "metadata": {
        "id": "z0IKrJ1LEBpk"
      },
      "execution_count": 13,
      "outputs": []
    },
    {
      "cell_type": "code",
      "source": [
        "print(category_profit_and_amount[['Category', 'Average Profit Per Order', 'Profit Margin (%)']])"
      ],
      "metadata": {
        "colab": {
          "base_uri": "https://localhost:8080/"
        },
        "id": "kIly5Z_-EFp8",
        "outputId": "88765446-1cd8-40eb-e506-6da08eb8dc9d"
      },
      "execution_count": 14,
      "outputs": [
        {
          "output_type": "stream",
          "name": "stdout",
          "text": [
            "      Category  Average Profit Per Order  Profit Margin (%)\n",
            "0     Clothing                 28.404580           8.027817\n",
            "1  Electronics                 51.441176           6.349725\n",
            "2    Furniture                 12.354839           1.806874\n"
          ]
        }
      ]
    },
    {
      "cell_type": "code",
      "source": [
        "top_performing = category_profit_and_amount.sort_values(by=['Average Profit Per Order', 'Profit Margin (%)'], ascending=False).head(3)\n",
        "underperforming = category_profit_and_amount.sort_values(by=['Average Profit Per Order', 'Profit Margin (%)'], ascending=True).head(3)"
      ],
      "metadata": {
        "id": "CblL-pZuEstk"
      },
      "execution_count": 15,
      "outputs": []
    },
    {
      "cell_type": "code",
      "source": [
        "print(\"Top-Performing Categories:\")\n",
        "print(top_performing[['Category', 'Average Profit Per Order', 'Profit Margin (%)']])\n"
      ],
      "metadata": {
        "colab": {
          "base_uri": "https://localhost:8080/"
        },
        "id": "LXn5HFxkExG_",
        "outputId": "75761219-b950-4aac-8ee9-1f3c276ef348"
      },
      "execution_count": 17,
      "outputs": [
        {
          "output_type": "stream",
          "name": "stdout",
          "text": [
            "Top-Performing Categories:\n",
            "      Category  Average Profit Per Order  Profit Margin (%)\n",
            "1  Electronics                 51.441176           6.349725\n",
            "0     Clothing                 28.404580           8.027817\n",
            "2    Furniture                 12.354839           1.806874\n"
          ]
        }
      ]
    },
    {
      "cell_type": "code",
      "source": [
        "print(\"\\nUnderperforming Categories:\")\n",
        "print(underperforming[['Category', 'Average Profit Per Order', 'Profit Margin (%)']])"
      ],
      "metadata": {
        "colab": {
          "base_uri": "https://localhost:8080/"
        },
        "id": "4bAAY0h7E9kp",
        "outputId": "f3a15b40-8959-4308-d433-bb6a5de697b2"
      },
      "execution_count": 18,
      "outputs": [
        {
          "output_type": "stream",
          "name": "stdout",
          "text": [
            "\n",
            "Underperforming Categories:\n",
            "      Category  Average Profit Per Order  Profit Margin (%)\n",
            "2    Furniture                 12.354839           1.806874\n",
            "0     Clothing                 28.404580           8.027817\n",
            "1  Electronics                 51.441176           6.349725\n"
          ]
        }
      ]
    },
    {
      "cell_type": "code",
      "source": [
        "import pandas as pd"
      ],
      "metadata": {
        "id": "A6_4W1hYFhjF"
      },
      "execution_count": 19,
      "outputs": []
    },
    {
      "cell_type": "code",
      "source": [
        "sales_target = pd.read_csv('/content/Sales_target_DD2E9B96A0.csv')"
      ],
      "metadata": {
        "id": "Y4pfm2yRMqOe"
      },
      "execution_count": 52,
      "outputs": []
    },
    {
      "cell_type": "code",
      "source": [
        "furniture_df = sales_target[sales_target['Category'] == 'Furniture']"
      ],
      "metadata": {
        "id": "aagii-n6M3f9"
      },
      "execution_count": 59,
      "outputs": []
    },
    {
      "cell_type": "code",
      "source": [
        "print(furniture_df.head(10))"
      ],
      "metadata": {
        "colab": {
          "base_uri": "https://localhost:8080/"
        },
        "id": "_2Ij02QRNO0c",
        "outputId": "83015586-04d0-4a6e-8649-9073193e5103"
      },
      "execution_count": 60,
      "outputs": [
        {
          "output_type": "stream",
          "name": "stdout",
          "text": [
            "  Month of Order Date   Category   Target\n",
            "0              Apr-18  Furniture  10400.0\n",
            "1              May-18  Furniture  10500.0\n",
            "2              Jun-18  Furniture  10600.0\n",
            "3              Jul-18  Furniture  10800.0\n",
            "4              Aug-18  Furniture  10900.0\n",
            "5              Sep-18  Furniture  11000.0\n",
            "6              Oct-18  Furniture  11100.0\n",
            "7              Nov-18  Furniture  11300.0\n",
            "8              Dec-18  Furniture  11400.0\n",
            "9              Jan-19  Furniture  11500.0\n"
          ]
        }
      ]
    },
    {
      "cell_type": "code",
      "source": [
        "furniture_df['Month of Order Date'] = pd.to_datetime(furniture_df['Month of Order Date'], format='%b-%y')\n",
        "furniture_df= furniture_df.sort_values(by='Month of Order Date')"
      ],
      "metadata": {
        "colab": {
          "base_uri": "https://localhost:8080/"
        },
        "id": "xGYsdobLNnkZ",
        "outputId": "fc581b6c-1a56-4bbe-a532-b5eeb2feb96b"
      },
      "execution_count": 61,
      "outputs": [
        {
          "output_type": "stream",
          "name": "stderr",
          "text": [
            "<ipython-input-61-84fa83b7033b>:1: SettingWithCopyWarning: \n",
            "A value is trying to be set on a copy of a slice from a DataFrame.\n",
            "Try using .loc[row_indexer,col_indexer] = value instead\n",
            "\n",
            "See the caveats in the documentation: https://pandas.pydata.org/pandas-docs/stable/user_guide/indexing.html#returning-a-view-versus-a-copy\n",
            "  furniture_df['Month of Order Date'] = pd.to_datetime(furniture_df['Month of Order Date'], format='%b-%y')\n"
          ]
        }
      ]
    },
    {
      "cell_type": "code",
      "source": [
        "print(furniture_df.head(10))"
      ],
      "metadata": {
        "colab": {
          "base_uri": "https://localhost:8080/"
        },
        "id": "irlgbX5fOT5Y",
        "outputId": "0553826b-718b-4187-85d6-fd7796d7eab8"
      },
      "execution_count": 62,
      "outputs": [
        {
          "output_type": "stream",
          "name": "stdout",
          "text": [
            "  Month of Order Date   Category   Target\n",
            "0          2018-04-01  Furniture  10400.0\n",
            "1          2018-05-01  Furniture  10500.0\n",
            "2          2018-06-01  Furniture  10600.0\n",
            "3          2018-07-01  Furniture  10800.0\n",
            "4          2018-08-01  Furniture  10900.0\n",
            "5          2018-09-01  Furniture  11000.0\n",
            "6          2018-10-01  Furniture  11100.0\n",
            "7          2018-11-01  Furniture  11300.0\n",
            "8          2018-12-01  Furniture  11400.0\n",
            "9          2019-01-01  Furniture  11500.0\n"
          ]
        }
      ]
    },
    {
      "cell_type": "code",
      "source": [
        "furniture_df['Target Sales Change (%)'] = furniture_df['Target'].pct_change() * 100"
      ],
      "metadata": {
        "id": "m-TltykvPTYt"
      },
      "execution_count": 68,
      "outputs": []
    },
    {
      "cell_type": "code",
      "source": [
        "print(furniture_df[['Month of Order Date', 'Target', 'Target Sales Change (%)']])"
      ],
      "metadata": {
        "colab": {
          "base_uri": "https://localhost:8080/"
        },
        "id": "HusjmJLUPhH_",
        "outputId": "993d2bd0-110f-4774-ac32-0a209e706f45"
      },
      "execution_count": 70,
      "outputs": [
        {
          "output_type": "stream",
          "name": "stdout",
          "text": [
            "   Month of Order Date   Target  Target Sales Change (%)\n",
            "0           2018-04-01  10400.0                      NaN\n",
            "1           2018-05-01  10500.0                 0.961538\n",
            "2           2018-06-01  10600.0                 0.952381\n",
            "3           2018-07-01  10800.0                 1.886792\n",
            "4           2018-08-01  10900.0                 0.925926\n",
            "5           2018-09-01  11000.0                 0.917431\n",
            "6           2018-10-01  11100.0                 0.909091\n",
            "7           2018-11-01  11300.0                 1.801802\n",
            "8           2018-12-01  11400.0                 0.884956\n",
            "9           2019-01-01  11500.0                 0.877193\n",
            "10          2019-02-01  11600.0                 0.869565\n",
            "11          2019-03-01  11800.0                 1.724138\n"
          ]
        }
      ]
    },
    {
      "cell_type": "code",
      "source": [
        "std_dev = furniture_df['Target Sales Change (%)'].std()"
      ],
      "metadata": {
        "id": "0mk226uGQAd6"
      },
      "execution_count": 71,
      "outputs": []
    },
    {
      "cell_type": "code",
      "source": [
        "significant_fluctuations = furniture_df[\n",
        "    (furniture_df['Target Sales Change (%)'] > (furniture_df['Target Sales Change (%)'].mean() + std_dev)) |\n",
        "    (furniture_df['Target Sales Change (%)'] < (furniture_df['Target Sales Change (%)'].mean() - std_dev))\n",
        "]"
      ],
      "metadata": {
        "id": "DVW4y367QKBH"
      },
      "execution_count": 73,
      "outputs": []
    },
    {
      "cell_type": "code",
      "source": [
        "print(significant_fluctuations[['Month of Order Date', 'Target', 'Target Sales Change (%)']])"
      ],
      "metadata": {
        "colab": {
          "base_uri": "https://localhost:8080/"
        },
        "id": "KgsZHWY9QS5B",
        "outputId": "ee12871f-400f-47fe-a7f0-e6020c73e21d"
      },
      "execution_count": 75,
      "outputs": [
        {
          "output_type": "stream",
          "name": "stdout",
          "text": [
            "   Month of Order Date   Target  Target Sales Change (%)\n",
            "3           2018-07-01  10800.0                 1.886792\n",
            "7           2018-11-01  11300.0                 1.801802\n",
            "11          2019-03-01  11800.0                 1.724138\n"
          ]
        }
      ]
    },
    {
      "cell_type": "code",
      "source": [
        "threshold = 10"
      ],
      "metadata": {
        "id": "YqB74yWGQhjZ"
      },
      "execution_count": 76,
      "outputs": []
    },
    {
      "cell_type": "code",
      "source": [
        "significant_fluctuations = furniture_df[\n",
        "    (furniture_df['Target Sales Change (%)'] > threshold) |\n",
        "    (furniture_df['Target Sales Change (%)'] < -threshold)\n",
        "]"
      ],
      "metadata": {
        "id": "fxMqLibRQl1g"
      },
      "execution_count": 77,
      "outputs": []
    },
    {
      "cell_type": "code",
      "source": [
        "print(significant_fluctuations[['Month of Order Date', 'Target', 'Target Sales Change (%)']])"
      ],
      "metadata": {
        "colab": {
          "base_uri": "https://localhost:8080/"
        },
        "id": "hb_QR1E2QpQB",
        "outputId": "0f96e1c7-682d-4955-b73a-0a83747de276"
      },
      "execution_count": 79,
      "outputs": [
        {
          "output_type": "stream",
          "name": "stdout",
          "text": [
            "Empty DataFrame\n",
            "Columns: [Month of Order Date, Target, Target Sales Change (%)]\n",
            "Index: []\n"
          ]
        }
      ]
    },
    {
      "cell_type": "code",
      "source": [
        "orders_df = pd.read_csv('/content/List_of_Orders.csv')"
      ],
      "metadata": {
        "id": "fXDI1eDyRh7f"
      },
      "execution_count": 80,
      "outputs": []
    },
    {
      "cell_type": "code",
      "source": [
        "order_count_by_state = orders_df.groupby('State')['Order ID'].count().reset_index(name='Order Count')"
      ],
      "metadata": {
        "id": "WsM5yWcDRoXV"
      },
      "execution_count": 81,
      "outputs": []
    },
    {
      "cell_type": "code",
      "source": [
        "top_5_states = order_count_by_state.sort_values(by='Order Count', ascending=False).head(5)"
      ],
      "metadata": {
        "id": "MDSYGQyLRr4u"
      },
      "execution_count": 84,
      "outputs": []
    },
    {
      "cell_type": "code",
      "source": [
        "print(top_5_states)"
      ],
      "metadata": {
        "colab": {
          "base_uri": "https://localhost:8080/"
        },
        "id": "8WTbW20WSDH_",
        "outputId": "e104daca-38be-48ed-9fda-943bb18e4eb6"
      },
      "execution_count": 85,
      "outputs": [
        {
          "output_type": "stream",
          "name": "stdout",
          "text": [
            "             State  Order Count\n",
            "10  Madhya Pradesh          101\n",
            "11     Maharashtra           90\n",
            "14       Rajasthan           32\n",
            "4          Gujarat           27\n",
            "13          Punjab           25\n"
          ]
        }
      ]
    },
    {
      "cell_type": "code",
      "source": [
        "state_sales_profit = merged_df.groupby('State').agg(\n",
        "    total_sales=('Amount', 'sum'),\n",
        "    avg_profit=('Profit', 'mean')\n",
        ").reset_index()"
      ],
      "metadata": {
        "id": "VWD8QmTtSnIP"
      },
      "execution_count": 88,
      "outputs": []
    },
    {
      "cell_type": "code",
      "source": [
        "top_5_sales_profit = pd.merge(top_5_states, state_sales_profit, on='State')"
      ],
      "metadata": {
        "id": "YFR3OQ0cS7U8"
      },
      "execution_count": 89,
      "outputs": []
    },
    {
      "cell_type": "code",
      "source": [
        "print(top_5_sales_profit[['State', 'Order Count', 'total_sales', 'avg_profit']])"
      ],
      "metadata": {
        "colab": {
          "base_uri": "https://localhost:8080/"
        },
        "id": "95qnvA6eS-6L",
        "outputId": "06bc23c4-5780-444e-b6f2-af47f982d1fe"
      },
      "execution_count": 90,
      "outputs": [
        {
          "output_type": "stream",
          "name": "stdout",
          "text": [
            "            State  Order Count  total_sales  avg_profit\n",
            "0  Madhya Pradesh          101     105140.0   16.326471\n",
            "1     Maharashtra           90      95348.0   21.296552\n",
            "2       Rajasthan           32      21149.0   16.986486\n",
            "3         Gujarat           27      21058.0    5.344828\n",
            "4          Punjab           25      16786.0  -10.150000\n"
          ]
        }
      ]
    },
    {
      "cell_type": "code",
      "source": [
        "# Calculate profit margin for each state\n",
        "state_sales_profit['Profit Margin (%)'] = (state_sales_profit['avg_profit'] / state_sales_profit['total_sales']) * 100\n",
        "\n",
        "# Merge with the top 5 states for further analysis\n",
        "top_5_sales_profit['Profit Margin (%)'] = (top_5_sales_profit['avg_profit'] / top_5_sales_profit['total_sales']) * 100\n",
        "\n",
        "# Compare regions that are high in sales but low in profit margin\n",
        "high_sales_low_profit = state_sales_profit[state_sales_profit['Profit Margin (%)'] < 10].sort_values(by='total_sales', ascending=False)\n",
        "\n",
        "# Focus on regions with the highest sales but lowest profit margins\n",
        "print(high_sales_low_profit[['State', 'total_sales', 'avg_profit', 'Profit Margin (%)']])\n"
      ],
      "metadata": {
        "colab": {
          "base_uri": "https://localhost:8080/"
        },
        "id": "m2hJRoqvTS6o",
        "outputId": "dd91d95a-05a8-4f7b-eb95-8c7472e59440"
      },
      "execution_count": 91,
      "outputs": [
        {
          "output_type": "stream",
          "name": "stdout",
          "text": [
            "                State  total_sales  avg_profit  Profit Margin (%)\n",
            "10     Madhya Pradesh     105140.0   16.326471           0.015528\n",
            "11        Maharashtra      95348.0   21.296552           0.022336\n",
            "2               Delhi      22531.0   40.364865           0.179153\n",
            "17      Uttar Pradesh      22359.0   47.602941           0.212903\n",
            "14          Rajasthan      21149.0   16.986486           0.080318\n",
            "4             Gujarat      21058.0    5.344828           0.025381\n",
            "13             Punjab      16786.0  -10.150000          -0.060467\n",
            "8           Karnataka      15058.0   11.944444           0.079323\n",
            "18        West Bengal      14086.0   39.682540           0.281716\n",
            "9             Kerala       13459.0   41.577778           0.308922\n",
            "0      Andhra Pradesh      13256.0  -11.809524          -0.089088\n",
            "1               Bihar      12943.0   -5.177419          -0.040002\n",
            "12           Nagaland      11903.0    3.288889           0.027631\n",
            "7   Jammu and Kashmir      10829.0    0.163265           0.001508\n",
            "5             Haryana       8863.0   50.961538           0.574992\n",
            "6    Himachal Pradesh       8666.0   22.620690           0.261028\n",
            "3                 Goa       6705.0    8.604651           0.128332\n",
            "16         Tamil Nadu       6087.0  -88.640000          -1.456218\n",
            "15             Sikkim       5276.0   16.708333           0.316686\n"
          ]
        }
      ]
    }
  ]
}